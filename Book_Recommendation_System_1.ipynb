{
  "nbformat": 4,
  "nbformat_minor": 0,
  "metadata": {
    "colab": {
      "name": "Book_Recommendation_System_1.ipynb",
      "provenance": [],
      "collapsed_sections": [],
      "authorship_tag": "ABX9TyOrORsDT74inlpSMjwTH02d",
      "include_colab_link": true
    },
    "kernelspec": {
      "name": "python3",
      "display_name": "Python 3"
    },
    "language_info": {
      "name": "python"
    }
  },
  "cells": [
    {
      "cell_type": "markdown",
      "metadata": {
        "id": "view-in-github",
        "colab_type": "text"
      },
      "source": [
        "<a href=\"https://colab.research.google.com/github/HarshalPawar88/Book-Recommendation-System/blob/main/Book_Recommendation_System_1.ipynb\" target=\"_parent\"><img src=\"https://colab.research.google.com/assets/colab-badge.svg\" alt=\"Open In Colab\"/></a>"
      ]
    },
    {
      "cell_type": "markdown",
      "metadata": {
        "id": "DnRnd4BWFjI7"
      },
      "source": [
        "#Introduction\n",
        "\n",
        "\n",
        "---\n",
        "\n",
        "\n",
        "During the last few decades, recommender systems have taken more and more place in our lives. From e-commerce to online advertisement, recommender systems are today unavoidable in our daily online journeys.\n",
        "\n",
        "In a very general way, recommender systems are algorithms aimed at suggesting relevant items to users. Recommender systems are really critical in some industries as they can generate a huge amount of income when they are efficient or also be a way to stand out significantly from competitors. The main objective is to create a book recommendation system for users."
      ]
    },
    {
      "cell_type": "markdown",
      "metadata": {
        "id": "PkjK2wDuFnJm"
      },
      "source": [
        "#Data Description\n",
        "\n",
        "\n",
        "---\n",
        "\n",
        "\n",
        "\n",
        "**The Book-Crossing dataset comprises 3 files.**\n",
        "\n",
        "**● Users**\n",
        "\n",
        "Contains the users. Note that user IDs (User-ID) have been anonymized and map to\n",
        "integers. Demographic data is provided (Location, Age) if available. Otherwise, these fields contain NULL values.\n",
        "\n",
        "**● Books**\n",
        "\n",
        "Books are identified by their respective ISBN. Invalid ISBNs have already been removed from the dataset. Moreover, some content-based information is given (Book-Title,Book-Author, Year-Of-Publication, Publisher), obtained from Amazon Web Services. Note that in the case of several authors, only the first is provided. URLs linking to cover images are also given, appearing in three different flavors (Image-URL-S,Image-URL-M, Image-URL-L), i.e., small, medium, large. These URLs point to the Amazon website.\n",
        "\n",
        "**● Ratings**\n",
        "Contains the book rating information. Ratings (Book-Rating) are either explicit,\n",
        "expressed on a scale from 1-10 (higher values denoting higher appreciation), or implicit, expressed by 0."
      ]
    },
    {
      "cell_type": "code",
      "metadata": {
        "colab": {
          "base_uri": "https://localhost:8080/"
        },
        "id": "75EX1Eg1_JkR",
        "outputId": "2bf12053-f2b0-427c-c647-86cc24f64c9e"
      },
      "source": [
        "from google.colab import drive\n",
        "drive.mount('/content/drive')"
      ],
      "execution_count": null,
      "outputs": [
        {
          "output_type": "stream",
          "name": "stdout",
          "text": [
            "Drive already mounted at /content/drive; to attempt to forcibly remount, call drive.mount(\"/content/drive\", force_remount=True).\n"
          ]
        }
      ]
    },
    {
      "cell_type": "code",
      "metadata": {
        "id": "cXo86gCo_j7F"
      },
      "source": [
        "import pandas as pd \n",
        "import numpy as np\n",
        "import seaborn as sns\n",
        "import matplotlib.pyplot as plt\n",
        "import numpy as np\n",
        "import scipy\n",
        "import pandas as pd\n",
        "import math\n",
        "import random\n",
        "import sklearn\n",
        "from nltk.corpus import stopwords\n",
        "from sklearn.model_selection import train_test_split\n",
        "from sklearn.feature_extraction.text import TfidfVectorizer\n",
        "from sklearn.metrics.pairwise import cosine_similarity\n",
        "from scipy.sparse.linalg import svds\n",
        "import matplotlib.pyplot as plt\n"
      ],
      "execution_count": null,
      "outputs": []
    },
    {
      "cell_type": "code",
      "metadata": {
        "colab": {
          "base_uri": "https://localhost:8080/"
        },
        "id": "z-k9hXjS_KRx",
        "outputId": "8bb4a24a-7869-4cb9-8569-c6832d1e60fd"
      },
      "source": [
        "df_books=pd.read_csv('/content/drive/MyDrive/Alma Better/Capstone_Project_2_BRS/data_book_recommendation/Books.csv')\n",
        "df_ratings=pd.read_csv('/content/drive/MyDrive/Alma Better/Capstone_Project_2_BRS/data_book_recommendation/Ratings.csv')\n",
        "df_user=pd.read_csv('/content/drive/MyDrive/Alma Better/Capstone_Project_2_BRS/data_book_recommendation/Users.csv')"
      ],
      "execution_count": null,
      "outputs": [
        {
          "output_type": "stream",
          "name": "stderr",
          "text": [
            "/usr/local/lib/python3.7/dist-packages/IPython/core/interactiveshell.py:2718: DtypeWarning: Columns (3) have mixed types.Specify dtype option on import or set low_memory=False.\n",
            "  interactivity=interactivity, compiler=compiler, result=result)\n"
          ]
        }
      ]
    },
    {
      "cell_type": "code",
      "metadata": {
        "id": "AiQkB_AjZ_-o"
      },
      "source": [
        "df_books['Book-Author'].fillna('Unknown',inplace=True)"
      ],
      "execution_count": null,
      "outputs": []
    },
    {
      "cell_type": "code",
      "metadata": {
        "id": "1L99-O-dqI6y"
      },
      "source": [
        "# Define a function to combine to columns namely title and author\n",
        "def change_title(str1,str2):\n",
        "  '''Change the title of books'''\n",
        "  str1 = str1 +\" \"+'by' +\" \"+str2\n",
        "  return str1"
      ],
      "execution_count": null,
      "outputs": []
    },
    {
      "cell_type": "code",
      "metadata": {
        "colab": {
          "base_uri": "https://localhost:8080/"
        },
        "id": "0wNj9ehrbuWy",
        "outputId": "efcb17f1-088d-4fb4-b750-8a57e914da9d"
      },
      "source": [
        "df_books.shape"
      ],
      "execution_count": null,
      "outputs": [
        {
          "output_type": "execute_result",
          "data": {
            "text/plain": [
              "(271360, 8)"
            ]
          },
          "metadata": {},
          "execution_count": 307
        }
      ]
    },
    {
      "cell_type": "code",
      "metadata": {
        "id": "MD0JEImtq8Hq"
      },
      "source": [
        "# Create a new column for title\n",
        "df_books['new_title'] = df_books.apply(lambda x : change_title(x['Book-Title'],x['Book-Author']),axis = 1)"
      ],
      "execution_count": null,
      "outputs": []
    },
    {
      "cell_type": "code",
      "metadata": {
        "id": "E0qLcOAzcSA7"
      },
      "source": [
        "# Get rid of duplications\n",
        "df_books = df_books.drop_duplicates(subset='new_title',keep='first')"
      ],
      "execution_count": null,
      "outputs": []
    },
    {
      "cell_type": "code",
      "metadata": {
        "colab": {
          "base_uri": "https://localhost:8080/"
        },
        "id": "tRJTAWNocX6R",
        "outputId": "00fcf112-c5fe-44ec-8672-5758edaba34a"
      },
      "source": [
        "df_books.shape"
      ],
      "execution_count": null,
      "outputs": [
        {
          "output_type": "execute_result",
          "data": {
            "text/plain": [
              "(251185, 9)"
            ]
          },
          "metadata": {},
          "execution_count": 310
        }
      ]
    },
    {
      "cell_type": "markdown",
      "metadata": {
        "id": "07YZfL4GF5bh"
      },
      "source": [
        "#Primary Inspection"
      ]
    },
    {
      "cell_type": "code",
      "metadata": {
        "id": "J6RWSvs2Tjam"
      },
      "source": [
        "p=print"
      ],
      "execution_count": null,
      "outputs": []
    },
    {
      "cell_type": "code",
      "metadata": {
        "id": "EskGQrh5FiJ-"
      },
      "source": [
        "df_merged = df_ratings.merge(df_books,how='inner',on='ISBN')\n",
        "df_merged = df_merged.merge(df_user,how='inner',on='User-ID')\n"
      ],
      "execution_count": null,
      "outputs": []
    },
    {
      "cell_type": "code",
      "metadata": {
        "id": "r9uo6AE6FiCD"
      },
      "source": [
        "df_merged.shape\n",
        "df_merged['Title-Lenght'] = df_merged['Book-Title'].apply(len)\n",
        "df_merged['Year-Of-Publication'] = pd.to_numeric(df_merged['Year-Of-Publication'], errors='coerce').fillna(2099, downcast = 'infer')"
      ],
      "execution_count": null,
      "outputs": []
    },
    {
      "cell_type": "code",
      "metadata": {
        "colab": {
          "base_uri": "https://localhost:8080/",
          "height": 484
        },
        "id": "HQSwupkwJ9QL",
        "outputId": "b3af0cfd-7840-4b17-f11e-c267be0c723c"
      },
      "source": [
        "df_merged.describe(include='all')"
      ],
      "execution_count": null,
      "outputs": [
        {
          "output_type": "execute_result",
          "data": {
            "text/html": [
              "<div>\n",
              "<style scoped>\n",
              "    .dataframe tbody tr th:only-of-type {\n",
              "        vertical-align: middle;\n",
              "    }\n",
              "\n",
              "    .dataframe tbody tr th {\n",
              "        vertical-align: top;\n",
              "    }\n",
              "\n",
              "    .dataframe thead th {\n",
              "        text-align: right;\n",
              "    }\n",
              "</style>\n",
              "<table border=\"1\" class=\"dataframe\">\n",
              "  <thead>\n",
              "    <tr style=\"text-align: right;\">\n",
              "      <th></th>\n",
              "      <th>User-ID</th>\n",
              "      <th>ISBN</th>\n",
              "      <th>Book-Rating</th>\n",
              "      <th>Book-Title</th>\n",
              "      <th>Book-Author</th>\n",
              "      <th>Year-Of-Publication</th>\n",
              "      <th>Publisher</th>\n",
              "      <th>Image-URL-S</th>\n",
              "      <th>Image-URL-M</th>\n",
              "      <th>Image-URL-L</th>\n",
              "      <th>new_title</th>\n",
              "      <th>Location</th>\n",
              "      <th>Age</th>\n",
              "      <th>Title-Lenght</th>\n",
              "    </tr>\n",
              "  </thead>\n",
              "  <tbody>\n",
              "    <tr>\n",
              "      <th>count</th>\n",
              "      <td>916933.00000</td>\n",
              "      <td>916933</td>\n",
              "      <td>916933.000000</td>\n",
              "      <td>916933</td>\n",
              "      <td>916933</td>\n",
              "      <td>916933.000000</td>\n",
              "      <td>916931</td>\n",
              "      <td>916933</td>\n",
              "      <td>916933</td>\n",
              "      <td>916929</td>\n",
              "      <td>916933</td>\n",
              "      <td>916933</td>\n",
              "      <td>671659.000000</td>\n",
              "      <td>916933.000000</td>\n",
              "    </tr>\n",
              "    <tr>\n",
              "      <th>unique</th>\n",
              "      <td>NaN</td>\n",
              "      <td>250075</td>\n",
              "      <td>NaN</td>\n",
              "      <td>241061</td>\n",
              "      <td>101587</td>\n",
              "      <td>NaN</td>\n",
              "      <td>16542</td>\n",
              "      <td>250074</td>\n",
              "      <td>250074</td>\n",
              "      <td>250071</td>\n",
              "      <td>250075</td>\n",
              "      <td>21418</td>\n",
              "      <td>NaN</td>\n",
              "      <td>NaN</td>\n",
              "    </tr>\n",
              "    <tr>\n",
              "      <th>top</th>\n",
              "      <td>NaN</td>\n",
              "      <td>0971880107</td>\n",
              "      <td>NaN</td>\n",
              "      <td>Wild Animus</td>\n",
              "      <td>Nora Roberts</td>\n",
              "      <td>NaN</td>\n",
              "      <td>Ballantine Books</td>\n",
              "      <td>http://images.amazon.com/images/P/0971880107.0...</td>\n",
              "      <td>http://images.amazon.com/images/P/0971880107.0...</td>\n",
              "      <td>http://images.amazon.com/images/P/0971880107.0...</td>\n",
              "      <td>Wild Animus by Rich Shapero</td>\n",
              "      <td>toronto, ontario, canada</td>\n",
              "      <td>NaN</td>\n",
              "      <td>NaN</td>\n",
              "    </tr>\n",
              "    <tr>\n",
              "      <th>freq</th>\n",
              "      <td>NaN</td>\n",
              "      <td>2502</td>\n",
              "      <td>NaN</td>\n",
              "      <td>2502</td>\n",
              "      <td>7645</td>\n",
              "      <td>NaN</td>\n",
              "      <td>30011</td>\n",
              "      <td>2502</td>\n",
              "      <td>2502</td>\n",
              "      <td>2502</td>\n",
              "      <td>2502</td>\n",
              "      <td>13115</td>\n",
              "      <td>NaN</td>\n",
              "      <td>NaN</td>\n",
              "    </tr>\n",
              "    <tr>\n",
              "      <th>mean</th>\n",
              "      <td>140202.83165</td>\n",
              "      <td>NaN</td>\n",
              "      <td>2.825417</td>\n",
              "      <td>NaN</td>\n",
              "      <td>NaN</td>\n",
              "      <td>1968.353922</td>\n",
              "      <td>NaN</td>\n",
              "      <td>NaN</td>\n",
              "      <td>NaN</td>\n",
              "      <td>NaN</td>\n",
              "      <td>NaN</td>\n",
              "      <td>NaN</td>\n",
              "      <td>37.340037</td>\n",
              "      <td>34.243288</td>\n",
              "    </tr>\n",
              "    <tr>\n",
              "      <th>std</th>\n",
              "      <td>80804.41894</td>\n",
              "      <td>NaN</td>\n",
              "      <td>3.848183</td>\n",
              "      <td>NaN</td>\n",
              "      <td>NaN</td>\n",
              "      <td>230.251189</td>\n",
              "      <td>NaN</td>\n",
              "      <td>NaN</td>\n",
              "      <td>NaN</td>\n",
              "      <td>NaN</td>\n",
              "      <td>NaN</td>\n",
              "      <td>NaN</td>\n",
              "      <td>14.073900</td>\n",
              "      <td>23.618870</td>\n",
              "    </tr>\n",
              "    <tr>\n",
              "      <th>min</th>\n",
              "      <td>2.00000</td>\n",
              "      <td>NaN</td>\n",
              "      <td>0.000000</td>\n",
              "      <td>NaN</td>\n",
              "      <td>NaN</td>\n",
              "      <td>0.000000</td>\n",
              "      <td>NaN</td>\n",
              "      <td>NaN</td>\n",
              "      <td>NaN</td>\n",
              "      <td>NaN</td>\n",
              "      <td>NaN</td>\n",
              "      <td>NaN</td>\n",
              "      <td>0.000000</td>\n",
              "      <td>1.000000</td>\n",
              "    </tr>\n",
              "    <tr>\n",
              "      <th>25%</th>\n",
              "      <td>69697.00000</td>\n",
              "      <td>NaN</td>\n",
              "      <td>0.000000</td>\n",
              "      <td>NaN</td>\n",
              "      <td>NaN</td>\n",
              "      <td>1991.000000</td>\n",
              "      <td>NaN</td>\n",
              "      <td>NaN</td>\n",
              "      <td>NaN</td>\n",
              "      <td>NaN</td>\n",
              "      <td>NaN</td>\n",
              "      <td>NaN</td>\n",
              "      <td>28.000000</td>\n",
              "      <td>16.000000</td>\n",
              "    </tr>\n",
              "    <tr>\n",
              "      <th>50%</th>\n",
              "      <td>140410.00000</td>\n",
              "      <td>NaN</td>\n",
              "      <td>0.000000</td>\n",
              "      <td>NaN</td>\n",
              "      <td>NaN</td>\n",
              "      <td>1997.000000</td>\n",
              "      <td>NaN</td>\n",
              "      <td>NaN</td>\n",
              "      <td>NaN</td>\n",
              "      <td>NaN</td>\n",
              "      <td>NaN</td>\n",
              "      <td>NaN</td>\n",
              "      <td>35.000000</td>\n",
              "      <td>28.000000</td>\n",
              "    </tr>\n",
              "    <tr>\n",
              "      <th>75%</th>\n",
              "      <td>211426.00000</td>\n",
              "      <td>NaN</td>\n",
              "      <td>7.000000</td>\n",
              "      <td>NaN</td>\n",
              "      <td>NaN</td>\n",
              "      <td>2001.000000</td>\n",
              "      <td>NaN</td>\n",
              "      <td>NaN</td>\n",
              "      <td>NaN</td>\n",
              "      <td>NaN</td>\n",
              "      <td>NaN</td>\n",
              "      <td>NaN</td>\n",
              "      <td>45.000000</td>\n",
              "      <td>48.000000</td>\n",
              "    </tr>\n",
              "    <tr>\n",
              "      <th>max</th>\n",
              "      <td>278854.00000</td>\n",
              "      <td>NaN</td>\n",
              "      <td>10.000000</td>\n",
              "      <td>NaN</td>\n",
              "      <td>NaN</td>\n",
              "      <td>2099.000000</td>\n",
              "      <td>NaN</td>\n",
              "      <td>NaN</td>\n",
              "      <td>NaN</td>\n",
              "      <td>NaN</td>\n",
              "      <td>NaN</td>\n",
              "      <td>NaN</td>\n",
              "      <td>244.000000</td>\n",
              "      <td>256.000000</td>\n",
              "    </tr>\n",
              "  </tbody>\n",
              "</table>\n",
              "</div>"
            ],
            "text/plain": [
              "             User-ID        ISBN  ...            Age   Title-Lenght\n",
              "count   916933.00000      916933  ...  671659.000000  916933.000000\n",
              "unique           NaN      250075  ...            NaN            NaN\n",
              "top              NaN  0971880107  ...            NaN            NaN\n",
              "freq             NaN        2502  ...            NaN            NaN\n",
              "mean    140202.83165         NaN  ...      37.340037      34.243288\n",
              "std      80804.41894         NaN  ...      14.073900      23.618870\n",
              "min          2.00000         NaN  ...       0.000000       1.000000\n",
              "25%      69697.00000         NaN  ...      28.000000      16.000000\n",
              "50%     140410.00000         NaN  ...      35.000000      28.000000\n",
              "75%     211426.00000         NaN  ...      45.000000      48.000000\n",
              "max     278854.00000         NaN  ...     244.000000     256.000000\n",
              "\n",
              "[11 rows x 14 columns]"
            ]
          },
          "metadata": {},
          "execution_count": 314
        }
      ]
    },
    {
      "cell_type": "code",
      "metadata": {
        "colab": {
          "base_uri": "https://localhost:8080/"
        },
        "id": "SSiGzUaNKIKD",
        "outputId": "0c3373d0-ad16-44ab-b748-8f4fa9b4a86b"
      },
      "source": [
        "df_merged.info()"
      ],
      "execution_count": null,
      "outputs": [
        {
          "output_type": "stream",
          "name": "stdout",
          "text": [
            "<class 'pandas.core.frame.DataFrame'>\n",
            "Int64Index: 916933 entries, 0 to 916932\n",
            "Data columns (total 14 columns):\n",
            " #   Column               Non-Null Count   Dtype  \n",
            "---  ------               --------------   -----  \n",
            " 0   User-ID              916933 non-null  int64  \n",
            " 1   ISBN                 916933 non-null  object \n",
            " 2   Book-Rating          916933 non-null  int64  \n",
            " 3   Book-Title           916933 non-null  object \n",
            " 4   Book-Author          916933 non-null  object \n",
            " 5   Year-Of-Publication  916933 non-null  int64  \n",
            " 6   Publisher            916931 non-null  object \n",
            " 7   Image-URL-S          916933 non-null  object \n",
            " 8   Image-URL-M          916933 non-null  object \n",
            " 9   Image-URL-L          916929 non-null  object \n",
            " 10  new_title            916933 non-null  object \n",
            " 11  Location             916933 non-null  object \n",
            " 12  Age                  671659 non-null  float64\n",
            " 13  Title-Lenght         916933 non-null  int64  \n",
            "dtypes: float64(1), int64(4), object(9)\n",
            "memory usage: 104.9+ MB\n"
          ]
        }
      ]
    },
    {
      "cell_type": "code",
      "metadata": {
        "colab": {
          "base_uri": "https://localhost:8080/",
          "height": 302
        },
        "id": "OBfXLvm1KO4J",
        "outputId": "6b7751e9-be4f-4c19-8cc5-4c60b5284b74"
      },
      "source": [
        "df_merged.loc[df_merged['ISBN'].str.endswith('X')].head(3)"
      ],
      "execution_count": null,
      "outputs": [
        {
          "output_type": "execute_result",
          "data": {
            "text/html": [
              "<div>\n",
              "<style scoped>\n",
              "    .dataframe tbody tr th:only-of-type {\n",
              "        vertical-align: middle;\n",
              "    }\n",
              "\n",
              "    .dataframe tbody tr th {\n",
              "        vertical-align: top;\n",
              "    }\n",
              "\n",
              "    .dataframe thead th {\n",
              "        text-align: right;\n",
              "    }\n",
              "</style>\n",
              "<table border=\"1\" class=\"dataframe\">\n",
              "  <thead>\n",
              "    <tr style=\"text-align: right;\">\n",
              "      <th></th>\n",
              "      <th>User-ID</th>\n",
              "      <th>ISBN</th>\n",
              "      <th>Book-Rating</th>\n",
              "      <th>Book-Title</th>\n",
              "      <th>Book-Author</th>\n",
              "      <th>Year-Of-Publication</th>\n",
              "      <th>Publisher</th>\n",
              "      <th>Image-URL-S</th>\n",
              "      <th>Image-URL-M</th>\n",
              "      <th>Image-URL-L</th>\n",
              "      <th>new_title</th>\n",
              "      <th>Location</th>\n",
              "      <th>Age</th>\n",
              "      <th>Title-Lenght</th>\n",
              "    </tr>\n",
              "  </thead>\n",
              "  <tbody>\n",
              "    <tr>\n",
              "      <th>0</th>\n",
              "      <td>276725</td>\n",
              "      <td>034545104X</td>\n",
              "      <td>0</td>\n",
              "      <td>Flesh Tones: A Novel</td>\n",
              "      <td>M. J. Rose</td>\n",
              "      <td>2002</td>\n",
              "      <td>Ballantine Books</td>\n",
              "      <td>http://images.amazon.com/images/P/034545104X.0...</td>\n",
              "      <td>http://images.amazon.com/images/P/034545104X.0...</td>\n",
              "      <td>http://images.amazon.com/images/P/034545104X.0...</td>\n",
              "      <td>Flesh Tones: A Novel by M. J. Rose</td>\n",
              "      <td>tyler, texas, usa</td>\n",
              "      <td>NaN</td>\n",
              "      <td>20</td>\n",
              "    </tr>\n",
              "    <tr>\n",
              "      <th>1</th>\n",
              "      <td>2313</td>\n",
              "      <td>034545104X</td>\n",
              "      <td>5</td>\n",
              "      <td>Flesh Tones: A Novel</td>\n",
              "      <td>M. J. Rose</td>\n",
              "      <td>2002</td>\n",
              "      <td>Ballantine Books</td>\n",
              "      <td>http://images.amazon.com/images/P/034545104X.0...</td>\n",
              "      <td>http://images.amazon.com/images/P/034545104X.0...</td>\n",
              "      <td>http://images.amazon.com/images/P/034545104X.0...</td>\n",
              "      <td>Flesh Tones: A Novel by M. J. Rose</td>\n",
              "      <td>cincinnati, ohio, usa</td>\n",
              "      <td>23.0</td>\n",
              "      <td>20</td>\n",
              "    </tr>\n",
              "    <tr>\n",
              "      <th>30</th>\n",
              "      <td>2313</td>\n",
              "      <td>080901548X</td>\n",
              "      <td>0</td>\n",
              "      <td>The Dark Child : The Autobiography of an Afric...</td>\n",
              "      <td>Camara Laye</td>\n",
              "      <td>1954</td>\n",
              "      <td>Farrar, Straus and Giroux</td>\n",
              "      <td>http://images.amazon.com/images/P/080901548X.0...</td>\n",
              "      <td>http://images.amazon.com/images/P/080901548X.0...</td>\n",
              "      <td>http://images.amazon.com/images/P/080901548X.0...</td>\n",
              "      <td>The Dark Child : The Autobiography of an Afric...</td>\n",
              "      <td>cincinnati, ohio, usa</td>\n",
              "      <td>23.0</td>\n",
              "      <td>52</td>\n",
              "    </tr>\n",
              "  </tbody>\n",
              "</table>\n",
              "</div>"
            ],
            "text/plain": [
              "    User-ID        ISBN  Book-Rating  ...               Location   Age  Title-Lenght\n",
              "0    276725  034545104X            0  ...      tyler, texas, usa   NaN            20\n",
              "1      2313  034545104X            5  ...  cincinnati, ohio, usa  23.0            20\n",
              "30     2313  080901548X            0  ...  cincinnati, ohio, usa  23.0            52\n",
              "\n",
              "[3 rows x 14 columns]"
            ]
          },
          "metadata": {},
          "execution_count": 316
        }
      ]
    },
    {
      "cell_type": "markdown",
      "metadata": {
        "id": "-19yt7r7KcrP"
      },
      "source": [
        "## Conclusion: Some titles have same ISBN."
      ]
    },
    {
      "cell_type": "markdown",
      "metadata": {
        "id": "rrEdN6K3K8VY"
      },
      "source": [
        "## **Unique Book Titles**"
      ]
    },
    {
      "cell_type": "code",
      "metadata": {
        "colab": {
          "base_uri": "https://localhost:8080/"
        },
        "id": "ns2x2o2BKOwv",
        "outputId": "27c5adcb-b7a8-4535-a49b-4760613c33dc"
      },
      "source": [
        "len(df_merged['Book-Title'].unique())"
      ],
      "execution_count": null,
      "outputs": [
        {
          "output_type": "execute_result",
          "data": {
            "text/plain": [
              "241061"
            ]
          },
          "metadata": {},
          "execution_count": 317
        }
      ]
    },
    {
      "cell_type": "markdown",
      "metadata": {
        "id": "Z2hLfl_kLGng"
      },
      "source": [
        "## **Unique ISBN**"
      ]
    },
    {
      "cell_type": "code",
      "metadata": {
        "colab": {
          "base_uri": "https://localhost:8080/"
        },
        "id": "EcQwbSqyKOo3",
        "outputId": "355b24cc-161e-42f5-e284-ff6b595214aa"
      },
      "source": [
        "len(df_merged['ISBN'].unique())"
      ],
      "execution_count": null,
      "outputs": [
        {
          "output_type": "execute_result",
          "data": {
            "text/plain": [
              "250075"
            ]
          },
          "metadata": {},
          "execution_count": 318
        }
      ]
    },
    {
      "cell_type": "markdown",
      "metadata": {
        "id": "j_w3-dTKLTVA"
      },
      "source": [
        "## **Unique Users**\n"
      ]
    },
    {
      "cell_type": "code",
      "metadata": {
        "colab": {
          "base_uri": "https://localhost:8080/"
        },
        "id": "z5nKMBSnKOdx",
        "outputId": "cc86a5c1-3306-48e6-b58b-f497c1cc862d"
      },
      "source": [
        "len(df_merged['User-ID'].unique())"
      ],
      "execution_count": null,
      "outputs": [
        {
          "output_type": "execute_result",
          "data": {
            "text/plain": [
              "85504"
            ]
          },
          "metadata": {},
          "execution_count": 319
        }
      ]
    },
    {
      "cell_type": "markdown",
      "metadata": {
        "id": "IfZVaucuMAYA"
      },
      "source": [
        "## **Publication Years**"
      ]
    },
    {
      "cell_type": "code",
      "metadata": {
        "colab": {
          "base_uri": "https://localhost:8080/"
        },
        "id": "M6qm9OU9LdY1",
        "outputId": "79f1935e-df4f-4918-beec-91888be832c3"
      },
      "source": [
        "df_merged['Year-Of-Publication'].unique()"
      ],
      "execution_count": null,
      "outputs": [
        {
          "output_type": "execute_result",
          "data": {
            "text/plain": [
              "array([2002, 1994, 1996, 1998, 2001, 1987, 1984, 1997, 1970, 1978, 1993,\n",
              "       1989, 1995, 1990, 1992, 1950, 1991, 1999, 1954, 1988, 2003, 2004,\n",
              "       2000, 1983, 1985, 1982, 1956, 1979, 1986, 1975,    0, 1976, 1977,\n",
              "       1980, 1981, 1974, 1957, 1958, 1960, 1963, 1969, 1972, 1961, 1971,\n",
              "       1953, 1968, 1973, 1967, 1962, 1937, 1959, 1955, 2005, 1945, 1965,\n",
              "       1964, 1927, 2020, 2050, 1920, 1966, 1952, 1930, 1940, 1942, 1947,\n",
              "       1925, 1923, 2030, 1951, 1936, 1946, 1943, 2099, 1928, 1941, 2011,\n",
              "       1948, 1901, 1932, 1939, 1944, 1938, 1902, 1929, 1900, 1911, 1949,\n",
              "       1926, 1933, 1922, 1897, 2026, 1906, 1806, 1935, 2006, 2037, 1921,\n",
              "       2024, 2038, 1924, 1378, 2008, 1934, 1909, 1931, 1904, 1917, 2012,\n",
              "       1914, 1376, 1908, 1919])"
            ]
          },
          "metadata": {},
          "execution_count": 320
        }
      ]
    },
    {
      "cell_type": "markdown",
      "metadata": {
        "id": "iRdvqDC8Made"
      },
      "source": [
        "# **Observation:-** We can clearly see that their are some noise values in the Year of Publication features :-\n",
        "### 1. **String Noise Values -** such as 'DK Publishing Inc' and 'Gallimard.\n",
        "### 2. **Integer Noise Values -** Since this data was collected in august 2004, so any year value greater than 2004 is a noise value."
      ]
    },
    {
      "cell_type": "code",
      "metadata": {
        "colab": {
          "base_uri": "https://localhost:8080/"
        },
        "id": "mcxxtr2qLw_x",
        "outputId": "09f822d0-f336-4af9-d2c9-2776324ebc13"
      },
      "source": [
        "len(df_merged['Publisher'].unique())"
      ],
      "execution_count": null,
      "outputs": [
        {
          "output_type": "execute_result",
          "data": {
            "text/plain": [
              "16543"
            ]
          },
          "metadata": {},
          "execution_count": 321
        }
      ]
    },
    {
      "cell_type": "markdown",
      "metadata": {
        "id": "E5Q1qfWRNarx"
      },
      "source": [
        "# **Preprocessing and Feature Engineering**"
      ]
    },
    {
      "cell_type": "markdown",
      "metadata": {
        "id": "utwrd1KvVSLs"
      },
      "source": [
        "## 1. Feature Engineering on Location"
      ]
    },
    {
      "cell_type": "code",
      "metadata": {
        "id": "Jb1ah9N3VHnB"
      },
      "source": [
        "def get_country(x):\n",
        "  return x.split(',')[-1]\n",
        "  "
      ],
      "execution_count": null,
      "outputs": []
    },
    {
      "cell_type": "code",
      "metadata": {
        "id": "3DhvLvciVHnB"
      },
      "source": [
        "df_location = df_user.copy(deep=True)\n",
        "df_location['country'] = df_user['Location'].apply(get_country)"
      ],
      "execution_count": null,
      "outputs": []
    },
    {
      "cell_type": "code",
      "metadata": {
        "id": "OTNOORgZVHnB"
      },
      "source": [
        "df_merged['Location'] = df_merged['Location'].apply(get_country)"
      ],
      "execution_count": null,
      "outputs": []
    },
    {
      "cell_type": "markdown",
      "metadata": {
        "id": "dmEPPnKaVa6n"
      },
      "source": [
        "1. Age"
      ]
    },
    {
      "cell_type": "code",
      "metadata": {
        "id": "HbftIt3hVnxz"
      },
      "source": [
        "# Create age groups using age column\n",
        "bins = [-1,12,20,50,100]\n",
        "labels = ['Kid','Teenager','Adult','Old']\n",
        "df_merged['age_bins'] = pd.cut(x=df_merged['Age'], bins=bins,labels=labels)"
      ],
      "execution_count": null,
      "outputs": []
    },
    {
      "cell_type": "markdown",
      "metadata": {
        "id": "6VlD4jfnO672"
      },
      "source": [
        "##Capping Outlier\n",
        "\n"
      ]
    },
    {
      "cell_type": "markdown",
      "metadata": {
        "id": "p5CU0hHuRzHZ"
      },
      "source": [
        "1. Age"
      ]
    },
    {
      "cell_type": "code",
      "metadata": {
        "colab": {
          "base_uri": "https://localhost:8080/"
        },
        "id": "ZFy3OByvRc6z",
        "outputId": "a37e5324-3d74-49ea-8555-69627bf62120"
      },
      "source": [
        "# Number of outliers\n",
        "outliers = sum(df_merged['Age']>90)\n",
        "print(outliers)"
      ],
      "execution_count": null,
      "outputs": [
        {
          "output_type": "stream",
          "name": "stdout",
          "text": [
            "2872\n"
          ]
        }
      ]
    },
    {
      "cell_type": "code",
      "metadata": {
        "colab": {
          "base_uri": "https://localhost:8080/"
        },
        "id": "qfm7IvjeQ_Ro",
        "outputId": "fac6da14-ad0d-4458-e218-4ffdcc97d9cb"
      },
      "source": [
        "# Plot Distribution of Age\n",
        "sns.distplot(df_merged['Age'].dropna())\n",
        "# Handling outliers by randomly replacing age >90 by values between 90 and 100\n",
        "age2 = df_merged['Age'].copy()\n",
        "random_age2 = np.random.randint(90,100,outliers)\n",
        "age2[df_merged['Age']>90]=random_age2\n",
        "df_merged['Age'] = age2"
      ],
      "execution_count": null,
      "outputs": [
        {
          "output_type": "stream",
          "name": "stderr",
          "text": [
            "/usr/local/lib/python3.7/dist-packages/seaborn/distributions.py:2557: FutureWarning: `distplot` is a deprecated function and will be removed in a future version. Please adapt your code to use either `displot` (a figure-level function with similar flexibility) or `histplot` (an axes-level function for histograms).\n",
            "  warnings.warn(msg, FutureWarning)\n"
          ]
        },
        {
          "output_type": "display_data",
          "data": {
            "image/png": "[encoded data removed]",
            "text/plain": [
              "<Figure size 842.4x595.44 with 1 Axes>"
            ]
          },
          "metadata": {}
        }
      ]
    },
    {
      "cell_type": "markdown",
      "metadata": {
        "id": "FnPTxonkjShd"
      },
      "source": [
        ""
      ]
    },
    {
      "cell_type": "code",
      "metadata": {
        "colab": {
          "base_uri": "https://localhost:8080/"
        },
        "id": "e14Av9n7d_h3",
        "outputId": "ccb1ee9d-aaab-4d46-eac4-8688b41fd3b6"
      },
      "source": [
        "# Calculating the mean vote across the whole df\n",
        "C = df_merged['Rating-Mean'].mean()\n",
        "C"
      ],
      "execution_count": null,
      "outputs": [
        {
          "output_type": "execute_result",
          "data": {
            "text/plain": [
              "2.8254419134221482"
            ]
          },
          "metadata": {},
          "execution_count": 346
        }
      ]
    },
    {
      "cell_type": "code",
      "metadata": {
        "colab": {
          "base_uri": "https://localhost:8080/"
        },
        "id": "aOzfW9UUfXPV",
        "outputId": "0940e8f3-0f0b-44ff-95fc-daff218c7b59"
      },
      "source": [
        "# Calculating the minimum votes required to be listed in the top 5%\n",
        "m = rating_count.quantile(.95)[0]\n",
        "m"
      ],
      "execution_count": null,
      "outputs": [
        {
          "output_type": "execute_result",
          "data": {
            "text/plain": [
              "12.0"
            ]
          },
          "metadata": {},
          "execution_count": 347
        }
      ]
    },
    {
      "cell_type": "code",
      "metadata": {
        "id": "w3wvSJwyd_e9"
      },
      "source": [
        "# IMDB formula; source: https://tutorialedge.net/python/building-imdb-top-250-clone-pandas/\n",
        "def weighted_rating(x, m=m, C=C):\n",
        "    v = x['Rating-Count']\n",
        "    R = x['Rating-Mean']\n",
        "\n",
        "    return (v/(v+m) * R) + (m/(m+v) * C)"
      ],
      "execution_count": null,
      "outputs": []
    },
    {
      "cell_type": "code",
      "metadata": {
        "id": "p9KQkiyAklp8"
      },
      "source": [
        "df_merged_updated=df_merged[df_merged['Book-Rating']!=0]"
      ],
      "execution_count": null,
      "outputs": []
    },
    {
      "cell_type": "code",
      "metadata": {
        "colab": {
          "base_uri": "https://localhost:8080/",
          "height": 112
        },
        "id": "7E43q6vtlGbv",
        "outputId": "2689f1a2-659e-4fad-cdb5-c2efaa9e21eb"
      },
      "source": [
        "df_merged_updated.head(2)"
      ],
      "execution_count": null,
      "outputs": [
        {
          "output_type": "execute_result",
          "data": {
            "text/html": [
              "<div>\n",
              "<style scoped>\n",
              "    .dataframe tbody tr th:only-of-type {\n",
              "        vertical-align: middle;\n",
              "    }\n",
              "\n",
              "    .dataframe tbody tr th {\n",
              "        vertical-align: top;\n",
              "    }\n",
              "\n",
              "    .dataframe thead th {\n",
              "        text-align: right;\n",
              "    }\n",
              "</style>\n",
              "<table border=\"1\" class=\"dataframe\">\n",
              "  <thead>\n",
              "    <tr style=\"text-align: right;\">\n",
              "      <th></th>\n",
              "      <th>User-ID</th>\n",
              "      <th>ISBN</th>\n",
              "      <th>Book-Rating</th>\n",
              "      <th>Book-Title</th>\n",
              "      <th>Book-Author</th>\n",
              "      <th>Year-Of-Publication</th>\n",
              "      <th>Publisher</th>\n",
              "      <th>new_title</th>\n",
              "      <th>Location</th>\n",
              "      <th>Age</th>\n",
              "      <th>Title-Lenght</th>\n",
              "      <th>age_bins</th>\n",
              "      <th>Rating-Count</th>\n",
              "      <th>Rating-Mean</th>\n",
              "    </tr>\n",
              "  </thead>\n",
              "  <tbody>\n",
              "    <tr>\n",
              "      <th>1</th>\n",
              "      <td>2313</td>\n",
              "      <td>034545104X</td>\n",
              "      <td>5</td>\n",
              "      <td>Flesh Tones: A Novel</td>\n",
              "      <td>M. J. Rose</td>\n",
              "      <td>2002</td>\n",
              "      <td>Ballantine Books</td>\n",
              "      <td>Flesh Tones: A Novel by M. J. Rose</td>\n",
              "      <td>usa</td>\n",
              "      <td>23</td>\n",
              "      <td>20</td>\n",
              "      <td>Adult</td>\n",
              "      <td>60</td>\n",
              "      <td>2.93</td>\n",
              "    </tr>\n",
              "    <tr>\n",
              "      <th>3</th>\n",
              "      <td>8680</td>\n",
              "      <td>034545104X</td>\n",
              "      <td>5</td>\n",
              "      <td>Flesh Tones: A Novel</td>\n",
              "      <td>M. J. Rose</td>\n",
              "      <td>2002</td>\n",
              "      <td>Ballantine Books</td>\n",
              "      <td>Flesh Tones: A Novel by M. J. Rose</td>\n",
              "      <td>usa</td>\n",
              "      <td>2</td>\n",
              "      <td>20</td>\n",
              "      <td>Kid</td>\n",
              "      <td>60</td>\n",
              "      <td>2.93</td>\n",
              "    </tr>\n",
              "  </tbody>\n",
              "</table>\n",
              "</div>"
            ],
            "text/plain": [
              "   User-ID        ISBN  Book-Rating  ... age_bins Rating-Count  Rating-Mean\n",
              "1     2313  034545104X            5  ...    Adult           60         2.93\n",
              "3     8680  034545104X            5  ...      Kid           60         2.93\n",
              "\n",
              "[2 rows x 14 columns]"
            ]
          },
          "metadata": {},
          "execution_count": 350
        }
      ]
    },
    {
      "cell_type": "code",
      "metadata": {
        "colab": {
          "base_uri": "https://localhost:8080/"
        },
        "id": "zCtTc6smIu5y",
        "outputId": "5f572a5a-0548-4cb8-c373-6af643724c22"
      },
      "source": [
        "df_merged_updated.shape"
      ],
      "execution_count": null,
      "outputs": [
        {
          "output_type": "execute_result",
          "data": {
            "text/plain": [
              "(340040, 14)"
            ]
          },
          "metadata": {},
          "execution_count": 351
        }
      ]
    },
    {
      "cell_type": "code",
      "metadata": {
        "colab": {
          "base_uri": "https://localhost:8080/"
        },
        "id": "t-U-gbaed_ax",
        "outputId": "9a34d83f-358d-4bda-b28c-5603e77d05a2"
      },
      "source": [
        "# Create relevant sub-dataset\n",
        "df_top_10 = df_merged_updated.copy().loc[df_merged_updated['Rating-Count'] >= m]\n",
        "df_top_10.shape"
      ],
      "execution_count": null,
      "outputs": [
        {
          "output_type": "execute_result",
          "data": {
            "text/plain": [
              "(163365, 14)"
            ]
          },
          "metadata": {},
          "execution_count": 352
        }
      ]
    },
    {
      "cell_type": "code",
      "metadata": {
        "id": "WWam91IRgNxN"
      },
      "source": [
        "df_top_10['Score'] = df_top_10.apply(weighted_rating, axis=1)"
      ],
      "execution_count": null,
      "outputs": []
    },
    {
      "cell_type": "markdown",
      "metadata": {
        "id": "EV1IswaMNMeQ"
      },
      "source": [
        "# **2. Exploratory Data Analysis**"
      ]
    },
    {
      "cell_type": "markdown",
      "metadata": {
        "id": "HVX5QTyUlg2g"
      },
      "source": [
        "## Ratings Count"
      ]
    },
    {
      "cell_type": "code",
      "metadata": {
        "id": "C6cr0abElqiA"
      },
      "source": [
        "rating_count=df_ratings['Book-Rating'].value_counts().reset_index().sort_values('Book-Rating',ascending=False)"
      ],
      "execution_count": null,
      "outputs": []
    },
    {
      "cell_type": "code",
      "metadata": {
        "colab": {
          "base_uri": "https://localhost:8080/"
        },
        "id": "kll7l3lTLw5g",
        "outputId": "31da1af7-2eee-471c-b20a-72cea4da5f62"
      },
      "source": [
        "plt.figure(figsize=(12,8))\n",
        "ax=sns.barplot(rating_count['index'],rating_count['Book-Rating'])\n",
        "ax.set_title('Ratings Count',fontsize=30,fontweight='bold')"
      ],
      "execution_count": null,
      "outputs": [
        {
          "output_type": "stream",
          "name": "stderr",
          "text": [
            "/usr/local/lib/python3.7/dist-packages/seaborn/_decorators.py:43: FutureWarning: Pass the following variables as keyword args: x, y. From version 0.12, the only valid positional argument will be `data`, and passing other arguments without an explicit keyword will result in an error or misinterpretation.\n",
            "  FutureWarning\n"
          ]
        },
        {
          "output_type": "execute_result",
          "data": {
            "text/plain": [
              "Text(0.5, 1.0, 'Ratings Count')"
            ]
          },
          "metadata": {},
          "execution_count": 355
        },
        {
          "output_type": "display_data",
          "data": {
            "image/png": "[encoded data removed]",
            "text/plain": [
              "<Figure size 864x576 with 1 Axes>"
            ]
          },
          "metadata": {}
        }
      ]
    },
    {
      "cell_type": "code",
      "metadata": {
        "colab": {
          "base_uri": "https://localhost:8080/"
        },
        "id": "Ru-UDB3jmfbB",
        "outputId": "3794481f-02bb-460f-849d-8616311c86d3"
      },
      "source": [
        "sns.set(rc={'figure.figsize':(11.7,8.27)})\n",
        "# df_merged_updated = df_merged_updated[df_merged['Book-Rating']!=0]\n",
        "sns.countplot(x='Book-Rating', data=df_merged_updated).set_title('Ratings-Density Plot', weight='bold').set_fontsize('25')"
      ],
      "execution_count": null,
      "outputs": [
        {
          "output_type": "display_data",
          "data": {
            "image/png": "[encoded data removed]",
            "text/plain": [
              "<Figure size 842.4x595.44 with 1 Axes>"
            ]
          },
          "metadata": {}
        }
      ]
    },
    {
      "cell_type": "markdown",
      "metadata": {
        "id": "HWn-1K3Rl3VX"
      },
      "source": [
        "## Author"
      ]
    },
    {
      "cell_type": "code",
      "metadata": {
        "id": "ZrpUWm8Kl0gn"
      },
      "source": [
        "auth_rating=df_merged.groupby(['Book-Author'])['Book-Rating'].count().sort_values(ascending=False).reset_index()"
      ],
      "execution_count": null,
      "outputs": []
    },
    {
      "cell_type": "code",
      "metadata": {
        "id": "Dpcgz3wSl0go",
        "colab": {
          "base_uri": "https://localhost:8080/"
        },
        "outputId": "01bdb81b-ded5-4961-8874-622892057151"
      },
      "source": [
        "plt.figure(figsize=(20,8))\n",
        "ax=sns.barplot(auth_rating[auth_rating['Book-Rating']>3000]['Book-Author'],auth_rating[auth_rating['Book-Rating']>3000]['Book-Rating'])\n",
        "ax.set_title('Author V/S Ratings', fontsize=30,fontweight='bold')\n"
      ],
      "execution_count": null,
      "outputs": [
        {
          "output_type": "stream",
          "name": "stderr",
          "text": [
            "/usr/local/lib/python3.7/dist-packages/seaborn/_decorators.py:43: FutureWarning: Pass the following variables as keyword args: x, y. From version 0.12, the only valid positional argument will be `data`, and passing other arguments without an explicit keyword will result in an error or misinterpretation.\n",
            "  FutureWarning\n"
          ]
        },
        {
          "output_type": "execute_result",
          "data": {
            "text/plain": [
              "Text(0.5, 1.0, 'Author V/S Ratings')"
            ]
          },
          "metadata": {},
          "execution_count": 358
        },
        {
          "output_type": "display_data",
          "data": {
            "image/png": "[encoded data removed]",
            "text/plain": [
              "<Figure size 1440x576 with 1 Axes>"
            ]
          },
          "metadata": {}
        }
      ]
    },
    {
      "cell_type": "code",
      "metadata": {
        "id": "xXOrxE_NmEW-"
      },
      "source": [
        "book_rating=df_merged.groupby(['Book-Title'])['Book-Rating'].count().sort_values(ascending=False).reset_index()"
      ],
      "execution_count": null,
      "outputs": []
    },
    {
      "cell_type": "code",
      "metadata": {
        "id": "HD7Mr519mEW-",
        "colab": {
          "base_uri": "https://localhost:8080/"
        },
        "outputId": "c9fe6f54-48ca-4fee-a890-e7cd68e8a813"
      },
      "source": [
        "plt.figure(figsize=(15,8))\n",
        "ax=sns.barplot(book_rating['Book-Rating'][:10],book_rating['Book-Title'][:10],color='g')\n",
        "ax.set_title('Book Ratings Count', fontsize=30,fontweight='bold')\n",
        "ax.set_xlabel('Ratings-Count',fontsize=20)\n",
        "ax.set_ylabel('Book-Titles',fontsize=20)\n",
        "plt.yticks(fontsize=15)\n",
        "plt.xticks(fontsize=15)"
      ],
      "execution_count": null,
      "outputs": [
        {
          "output_type": "stream",
          "name": "stderr",
          "text": [
            "/usr/local/lib/python3.7/dist-packages/seaborn/_decorators.py:43: FutureWarning: Pass the following variables as keyword args: x, y. From version 0.12, the only valid positional argument will be `data`, and passing other arguments without an explicit keyword will result in an error or misinterpretation.\n",
            "  FutureWarning\n"
          ]
        },
        {
          "output_type": "execute_result",
          "data": {
            "text/plain": [
              "(array([   0.,  500., 1000., 1500., 2000., 2500., 3000.]),\n",
              " <a list of 7 Text major ticklabel objects>)"
            ]
          },
          "metadata": {},
          "execution_count": 360
        },
        {
          "output_type": "display_data",
          "data": {
            "image/png": "[encoded data removed]",
            "text/plain": [
              "<Figure size 1080x576 with 1 Axes>"
            ]
          },
          "metadata": {}
        }
      ]
    },
    {
      "cell_type": "markdown",
      "metadata": {
        "id": "UAZg9FIzm67c"
      },
      "source": [
        "## Location"
      ]
    },
    {
      "cell_type": "code",
      "metadata": {
        "id": "gqL3sL6TGV07"
      },
      "source": [
        "#Identifying what % of customers are coming from different countries\n",
        "df_location = pd.DataFrame(df_location.country.value_counts(normalize=True)).reset_index()\n",
        "df_location.columns = ['countries','value_counts']\n",
        "\n",
        "#Labeling countries with low customer % as other\n",
        "df_location['countries'] = df_location.apply(lambda x: 'other' if (x['value_counts'] < 0.01 or x['countries'] == '') else x['countries'],axis=1)\n",
        "\n",
        "#Grouping the customer % from 'other' countries \n",
        "df_location = df_location.groupby('countries')['value_counts'].sum().reset_index()"
      ],
      "execution_count": null,
      "outputs": []
    },
    {
      "cell_type": "code",
      "metadata": {
        "id": "dD0QM-gzRFUy",
        "colab": {
          "base_uri": "https://localhost:8080/"
        },
        "outputId": "18b86e5d-8e2c-44e4-9ab4-180aa9988c00"
      },
      "source": [
        "#Every country has now just one occurance\n",
        "df_location.countries.value_counts()"
      ],
      "execution_count": null,
      "outputs": [
        {
          "output_type": "execute_result",
          "data": {
            "text/plain": [
              " new zealand       1\n",
              " netherlands       1\n",
              " united kingdom    1\n",
              " france            1\n",
              " portugal          1\n",
              " italy             1\n",
              " australia         1\n",
              " canada            1\n",
              " usa               1\n",
              "other              1\n",
              " germany           1\n",
              " spain             1\n",
              "Name: countries, dtype: int64"
            ]
          },
          "metadata": {},
          "execution_count": 362
        }
      ]
    },
    {
      "cell_type": "code",
      "metadata": {
        "id": "I_ujPKRqGspd",
        "colab": {
          "base_uri": "https://localhost:8080/"
        },
        "outputId": "b4b05452-1db1-433a-c66c-881e8c02b90c"
      },
      "source": [
        "#define Seaborn color palette to use\n",
        "colors = sns.color_palette('pastel')[0:5]\n",
        "\n",
        "#create pie chart\n",
        "plt.title(\"Country Representation in the Data Set\",bbox={'facecolor':'0.8', 'pad':8},fontsize=24, fontdict={\"weight\": \"bold\"},y=1.25,x=0.578)\n",
        "f = plt.pie(df_location['value_counts'], labels = df_location['countries'], colors = colors, autopct='%.0f%%',radius=1.4)"
      ],
      "execution_count": null,
      "outputs": [
        {
          "output_type": "display_data",
          "data": {
            "image/png": "[encoded data removed]",
            "text/plain": [
              "<Figure size 842.4x595.44 with 1 Axes>"
            ]
          },
          "metadata": {}
        }
      ]
    },
    {
      "cell_type": "markdown",
      "metadata": {
        "id": "qpAC-2y4nK86"
      },
      "source": [
        "# **Insight**: Most customers are from United states of America, followd by Canada, United Kingdom and Germany\n",
        "\n",
        "*Countries with less than 1% customers are labeled as other"
      ]
    }
  ]
}